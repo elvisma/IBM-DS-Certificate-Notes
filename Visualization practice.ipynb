{
 "cells": [
  {
   "cell_type": "code",
   "execution_count": 4,
   "metadata": {},
   "outputs": [],
   "source": [
    "from matplotlib.backends.backend_agg import FigureCanvasAgg as FigureCanvas"
   ]
  },
  {
   "cell_type": "code",
   "execution_count": 2,
   "metadata": {},
   "outputs": [],
   "source": [
    "from matplotlib.figure import Figure ## import Figure artist"
   ]
  },
  {
   "cell_type": "code",
   "execution_count": 5,
   "metadata": {},
   "outputs": [],
   "source": [
    "fig=Figure()\n",
    "canvas=FigureCanvas(fig)"
   ]
  },
  {
   "cell_type": "code",
   "execution_count": 7,
   "metadata": {},
   "outputs": [
    {
     "data": {
      "text/plain": [
       "numpy.ndarray"
      ]
     },
     "execution_count": 7,
     "metadata": {},
     "output_type": "execute_result"
    }
   ],
   "source": [
    "### create 10000 random numbers using numpy\n",
    "import numpy as np\n",
    "x=np.random.randn(10000)\n",
    "type(x)"
   ]
  },
  {
   "cell_type": "code",
   "execution_count": 9,
   "metadata": {},
   "outputs": [
    {
     "data": {
      "text/plain": [
       "array([ 0.0643661 ,  0.57405321, -2.11904973, -0.37902383,  0.7838276 ,\n",
       "       -0.80236071,  0.70355742, -1.01781659, -2.41439183, -0.67141455])"
      ]
     },
     "execution_count": 9,
     "metadata": {},
     "output_type": "execute_result"
    }
   ],
   "source": [
    "x[0:10]"
   ]
  },
  {
   "cell_type": "code",
   "execution_count": 10,
   "metadata": {},
   "outputs": [
    {
     "data": {
      "text/plain": [
       "(array([  1.,   1.,   1.,   3.,   4.,   1.,   3.,   2.,   5.,   4.,  13.,\n",
       "          8.,  10.,  15.,  13.,  13.,  24.,  26.,  38.,  31.,  38.,  50.,\n",
       "         59.,  66.,  67.,  65.,  89.,  91.,  91., 131., 117., 148., 135.,\n",
       "        183., 168., 191., 217., 197., 211., 247., 228., 276., 252., 259.,\n",
       "        290., 258., 298., 311., 285., 312., 265., 265., 289., 282., 266.,\n",
       "        264., 233., 241., 247., 199., 173., 182., 168., 159., 132., 128.,\n",
       "        110., 100.,  87.,  82.,  87.,  85.,  53.,  47.,  39.,  46.,  29.,\n",
       "         31.,  30.,  21.,  24.,  15.,  13.,  21.,   7.,   6.,   8.,   1.,\n",
       "          6.,   2.,   2.,   2.,   5.,   0.,   0.,   1.,   0.,   0.,   0.,\n",
       "          1.]),\n",
       " array([-3.49585187, -3.42335962, -3.35086737, -3.27837511, -3.20588286,\n",
       "        -3.13339061, -3.06089835, -2.9884061 , -2.91591385, -2.84342159,\n",
       "        -2.77092934, -2.69843709, -2.62594483, -2.55345258, -2.48096033,\n",
       "        -2.40846807, -2.33597582, -2.26348357, -2.19099131, -2.11849906,\n",
       "        -2.04600681, -1.97351455, -1.9010223 , -1.82853005, -1.75603779,\n",
       "        -1.68354554, -1.61105329, -1.53856103, -1.46606878, -1.39357653,\n",
       "        -1.32108427, -1.24859202, -1.17609977, -1.10360751, -1.03111526,\n",
       "        -0.95862301, -0.88613075, -0.8136385 , -0.74114625, -0.66865399,\n",
       "        -0.59616174, -0.52366949, -0.45117723, -0.37868498, -0.30619273,\n",
       "        -0.23370047, -0.16120822, -0.08871597, -0.01622371,  0.05626854,\n",
       "         0.12876079,  0.20125304,  0.2737453 ,  0.34623755,  0.4187298 ,\n",
       "         0.49122206,  0.56371431,  0.63620656,  0.70869882,  0.78119107,\n",
       "         0.85368332,  0.92617558,  0.99866783,  1.07116008,  1.14365234,\n",
       "         1.21614459,  1.28863684,  1.3611291 ,  1.43362135,  1.5061136 ,\n",
       "         1.57860586,  1.65109811,  1.72359036,  1.79608262,  1.86857487,\n",
       "         1.94106712,  2.01355938,  2.08605163,  2.15854388,  2.23103614,\n",
       "         2.30352839,  2.37602064,  2.4485129 ,  2.52100515,  2.5934974 ,\n",
       "         2.66598966,  2.73848191,  2.81097416,  2.88346642,  2.95595867,\n",
       "         3.02845092,  3.10094318,  3.17343543,  3.24592768,  3.31841994,\n",
       "         3.39091219,  3.46340444,  3.53589669,  3.60838895,  3.6808812 ,\n",
       "         3.75337345]),\n",
       " <a list of 100 Patch objects>)"
      ]
     },
     "execution_count": 10,
     "metadata": {},
     "output_type": "execute_result"
    }
   ],
   "source": [
    "ax=fig.add_subplot(111) # create an axes artist\n",
    "ax.hist(x,100)  # generate a histogram of the 10000 numbers in 100 bins\n"
   ]
  },
  {
   "cell_type": "code",
   "execution_count": 11,
   "metadata": {},
   "outputs": [],
   "source": [
    "ax.set_title('Normal distribution with $\\mu=0,\\sigma=1$')\n",
    "fig.savefig(\"matplotlib_histogram.png\")"
   ]
  },
  {
   "cell_type": "code",
   "execution_count": 13,
   "metadata": {},
   "outputs": [
    {
     "data": {
      "text/plain": [
       "(array([  1.,   1.,   1.,   3.,   4.,   1.,   3.,   2.,   5.,   4.,  13.,\n",
       "          8.,  10.,  15.,  13.,  13.,  24.,  26.,  38.,  31.,  38.,  50.,\n",
       "         59.,  66.,  67.,  65.,  89.,  91.,  91., 131., 117., 148., 135.,\n",
       "        183., 168., 191., 217., 197., 211., 247., 228., 276., 252., 259.,\n",
       "        290., 258., 298., 311., 285., 312., 265., 265., 289., 282., 266.,\n",
       "        264., 233., 241., 247., 199., 173., 182., 168., 159., 132., 128.,\n",
       "        110., 100.,  87.,  82.,  87.,  85.,  53.,  47.,  39.,  46.,  29.,\n",
       "         31.,  30.,  21.,  24.,  15.,  13.,  21.,   7.,   6.,   8.,   1.,\n",
       "          6.,   2.,   2.,   2.,   5.,   0.,   0.,   1.,   0.,   0.,   0.,\n",
       "          1.]),\n",
       " array([-3.49585187, -3.42335962, -3.35086737, -3.27837511, -3.20588286,\n",
       "        -3.13339061, -3.06089835, -2.9884061 , -2.91591385, -2.84342159,\n",
       "        -2.77092934, -2.69843709, -2.62594483, -2.55345258, -2.48096033,\n",
       "        -2.40846807, -2.33597582, -2.26348357, -2.19099131, -2.11849906,\n",
       "        -2.04600681, -1.97351455, -1.9010223 , -1.82853005, -1.75603779,\n",
       "        -1.68354554, -1.61105329, -1.53856103, -1.46606878, -1.39357653,\n",
       "        -1.32108427, -1.24859202, -1.17609977, -1.10360751, -1.03111526,\n",
       "        -0.95862301, -0.88613075, -0.8136385 , -0.74114625, -0.66865399,\n",
       "        -0.59616174, -0.52366949, -0.45117723, -0.37868498, -0.30619273,\n",
       "        -0.23370047, -0.16120822, -0.08871597, -0.01622371,  0.05626854,\n",
       "         0.12876079,  0.20125304,  0.2737453 ,  0.34623755,  0.4187298 ,\n",
       "         0.49122206,  0.56371431,  0.63620656,  0.70869882,  0.78119107,\n",
       "         0.85368332,  0.92617558,  0.99866783,  1.07116008,  1.14365234,\n",
       "         1.21614459,  1.28863684,  1.3611291 ,  1.43362135,  1.5061136 ,\n",
       "         1.57860586,  1.65109811,  1.72359036,  1.79608262,  1.86857487,\n",
       "         1.94106712,  2.01355938,  2.08605163,  2.15854388,  2.23103614,\n",
       "         2.30352839,  2.37602064,  2.4485129 ,  2.52100515,  2.5934974 ,\n",
       "         2.66598966,  2.73848191,  2.81097416,  2.88346642,  2.95595867,\n",
       "         3.02845092,  3.10094318,  3.17343543,  3.24592768,  3.31841994,\n",
       "         3.39091219,  3.46340444,  3.53589669,  3.60838895,  3.6808812 ,\n",
       "         3.75337345]),\n",
       " <a list of 100 Patch objects>)"
      ]
     },
     "execution_count": 13,
     "metadata": {},
     "output_type": "execute_result"
    },
    {
     "data": {
      "image/png": "[encoded data removed]",
      "text/plain": [
       "<Figure size 432x288 with 1 Axes>"
      ]
     },
     "metadata": {
      "needs_background": "light"
     },
     "output_type": "display_data"
    }
   ],
   "source": [
    "import matplotlib.pyplot as plt\n",
    "plt.hist(x,100)"
   ]
  },
  {
   "cell_type": "code",
   "execution_count": 15,
   "metadata": {},
   "outputs": [
    {
     "data": {
      "image/png": "[encoded data removed]",
      "text/plain": [
       "<Figure size 432x288 with 1 Axes>"
      ]
     },
     "metadata": {
      "needs_background": "light"
     },
     "output_type": "display_data"
    }
   ],
   "source": [
    "x=np.random.randn(10000)\n",
    "plt.hist(x,100)\n",
    "plt.title('Normal distribution with $\\mu=0, \\sigma=1$')\n",
    "plt.savefig('matplotlib_histogram.png')\n",
    "plt.show()"
   ]
  },
  {
   "cell_type": "code",
   "execution_count": 16,
   "metadata": {
    "scrolled": true
   },
   "outputs": [
    {
     "data": {
      "text/plain": [
       "[<matplotlib.lines.Line2D at 0x7f53ba659da0>]"
      ]
     },
     "execution_count": 16,
     "metadata": {},
     "output_type": "execute_result"
    },
    {
     "data": {
      "image/png": "[encoded data removed]",
      "text/plain": [
       "<Figure size 432x288 with 1 Axes>"
      ]
     },
     "metadata": {
      "needs_background": "light"
     },
     "output_type": "display_data"
    }
   ],
   "source": [
    "plt.plot(5,5,'o')"
   ]
  },
  {
   "cell_type": "code",
   "execution_count": 17,
   "metadata": {},
   "outputs": [],
   "source": [
    "### magic function--> backend\n",
    "%matplotlib inline\n",
    "%matplotlib notebook"
   ]
  },
  {
   "cell_type": "code",
   "execution_count": 18,
   "metadata": {},
   "outputs": [
    {
     "name": "stdout",
     "output_type": "stream",
     "text": [
      "Requirement already satisfied: xlrd in /opt/conda/envs/Python36/lib/python3.6/site-packages (1.2.0)\n",
      "xlrd installed!\n"
     ]
    }
   ],
   "source": [
    "# install xlrd --> required to extract data from Excel spreadsheet files\n",
    "!pip install xlrd\n",
    "print('xlrd installed!')"
   ]
  },
  {
   "cell_type": "code",
   "execution_count": null,
   "metadata": {},
   "outputs": [],
   "source": [
    "df_can = pd.read_excel('https://s3-api.us-geo.objectstorage.softlayer.net/cf-courses-data/CognitiveClass/DV0101EN/labs/Data_Files/Canada.xlsx',\n",
    "                       sheet_name='Canada by Citizenship',\n",
    "                       skiprows=range(20),\n",
    "                       skipfooter=2)\n",
    "\n",
    "print ('Data read into a pandas dataframe!')"
   ]
  }
 ],
 "metadata": {
  "kernelspec": {
   "display_name": "Python 3.6",
   "language": "python",
   "name": "python3"
  },
  "language_info": {
   "codemirror_mode": {
    "name": "ipython",
    "version": 3
   },
   "file_extension": ".py",
   "mimetype": "text/x-python",
   "name": "python",
   "nbconvert_exporter": "python",
   "pygments_lexer": "ipython3",
   "version": "3.6.8"
  }
 },
 "nbformat": 4,
 "nbformat_minor": 1
}
